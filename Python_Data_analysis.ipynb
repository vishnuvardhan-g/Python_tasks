{
  "nbformat": 4,
  "nbformat_minor": 0,
  "metadata": {
    "colab": {
      "provenance": [],
      "authorship_tag": "ABX9TyOecLZeJQTPFk1/T9P9NbwO",
      "include_colab_link": true
    },
    "kernelspec": {
      "name": "python3",
      "display_name": "Python 3"
    },
    "language_info": {
      "name": "python"
    }
  },
  "cells": [
    {
      "cell_type": "markdown",
      "metadata": {
        "id": "view-in-github",
        "colab_type": "text"
      },
      "source": [
        "<a href=\"https://colab.research.google.com/github/vishnuvardhan-g/Python_tasks/blob/main/Python_Data_analysis.ipynb\" target=\"_parent\"><img src=\"https://colab.research.google.com/assets/colab-badge.svg\" alt=\"Open In Colab\"/></a>"
      ]
    },
    {
      "cell_type": "code",
      "execution_count": null,
      "metadata": {
        "id": "0KGZZXryH0QT",
        "colab": {
          "base_uri": "https://localhost:8080/"
        },
        "outputId": "d48517c7-6de4-4f9d-a230-9df157fc4a23"
      },
      "outputs": [
        {
          "output_type": "execute_result",
          "data": {
            "text/plain": [
              "int"
            ]
          },
          "metadata": {},
          "execution_count": 2
        }
      ],
      "source": [
        "#Variables\n",
        "\n",
        "var=10\n",
        "type(var)"
      ]
    },
    {
      "cell_type": "code",
      "source": [
        "string=\"Vishnu\"\n",
        "String1='Vishnu'\n",
        "\n",
        "print(string)\n",
        "print(String1)"
      ],
      "metadata": {
        "colab": {
          "base_uri": "https://localhost:8080/"
        },
        "id": "eZy__ebO5yDM",
        "outputId": "68fbea14-39ab-49f6-f1a8-54e990b6fd40"
      },
      "execution_count": null,
      "outputs": [
        {
          "output_type": "stream",
          "name": "stdout",
          "text": [
            "Vishnu\n",
            "Vishnu\n"
          ]
        }
      ]
    },
    {
      "cell_type": "code",
      "source": [
        "#keywords\n",
        "#def, else, if, return, continue, break, finally, from, lambda, export, none, import\n",
        "\n",
        "a=4\n",
        "b=4\n",
        "c=a+b\n",
        "c"
      ],
      "metadata": {
        "colab": {
          "base_uri": "https://localhost:8080/"
        },
        "id": "icrRgRtW6OMR",
        "outputId": "f400ea31-6806-473a-f3fd-eeeead41a21e"
      },
      "execution_count": null,
      "outputs": [
        {
          "output_type": "execute_result",
          "data": {
            "text/plain": [
              "8"
            ]
          },
          "metadata": {},
          "execution_count": 8
        }
      ]
    },
    {
      "cell_type": "code",
      "source": [
        "def func_sum(a,b):\n",
        "  c=a+b\n",
        "  return c\n",
        "\n",
        "func_sum(4,5)"
      ],
      "metadata": {
        "colab": {
          "base_uri": "https://localhost:8080/"
        },
        "id": "YdnYOljC6YHP",
        "outputId": "2c97bfbd-6cbe-4722-dec4-dfc95cd1626d"
      },
      "execution_count": null,
      "outputs": [
        {
          "output_type": "execute_result",
          "data": {
            "text/plain": [
              "9"
            ]
          },
          "metadata": {},
          "execution_count": 13
        }
      ]
    },
    {
      "cell_type": "code",
      "source": [
        "func_sum(14,15)"
      ],
      "metadata": {
        "colab": {
          "base_uri": "https://localhost:8080/"
        },
        "id": "i0hOLI6m7Lyc",
        "outputId": "f0913105-e7ed-47ce-f92d-413f1a86f5a0"
      },
      "execution_count": null,
      "outputs": [
        {
          "output_type": "execute_result",
          "data": {
            "text/plain": [
              "29"
            ]
          },
          "metadata": {},
          "execution_count": 15
        }
      ]
    },
    {
      "cell_type": "code",
      "source": [
        "#type casting\n",
        "\n",
        "a=10\n",
        "type(a)"
      ],
      "metadata": {
        "colab": {
          "base_uri": "https://localhost:8080/"
        },
        "id": "TABQkalO7rNi",
        "outputId": "4ec4cbbe-8f42-4b0e-b9a6-2c947d3a1254"
      },
      "execution_count": null,
      "outputs": [
        {
          "output_type": "execute_result",
          "data": {
            "text/plain": [
              "int"
            ]
          },
          "metadata": {},
          "execution_count": 17
        }
      ]
    },
    {
      "cell_type": "code",
      "source": [
        "float(a)"
      ],
      "metadata": {
        "colab": {
          "base_uri": "https://localhost:8080/"
        },
        "id": "pigehwJx9F9v",
        "outputId": "4c416103-9917-4496-bfa7-536a79acea6d"
      },
      "execution_count": null,
      "outputs": [
        {
          "output_type": "execute_result",
          "data": {
            "text/plain": [
              "10.0"
            ]
          },
          "metadata": {},
          "execution_count": 19
        }
      ]
    },
    {
      "cell_type": "code",
      "source": [
        "b=2.5\n",
        "type(b)"
      ],
      "metadata": {
        "colab": {
          "base_uri": "https://localhost:8080/"
        },
        "id": "EJoUaaPQ9Qc0",
        "outputId": "e6884e87-3086-458d-d4e1-6cf08e7bc3ed"
      },
      "execution_count": null,
      "outputs": [
        {
          "output_type": "execute_result",
          "data": {
            "text/plain": [
              "float"
            ]
          },
          "metadata": {},
          "execution_count": 21
        }
      ]
    },
    {
      "cell_type": "code",
      "source": [
        "int(b)"
      ],
      "metadata": {
        "colab": {
          "base_uri": "https://localhost:8080/"
        },
        "id": "xRh6Z-uA9Uw4",
        "outputId": "5615e431-785e-44f2-80c8-e83e6ff122e3"
      },
      "execution_count": null,
      "outputs": [
        {
          "output_type": "execute_result",
          "data": {
            "text/plain": [
              "2"
            ]
          },
          "metadata": {},
          "execution_count": 23
        }
      ]
    },
    {
      "cell_type": "code",
      "source": [
        "var=22+15j\n",
        "\n",
        "str(var)"
      ],
      "metadata": {
        "colab": {
          "base_uri": "https://localhost:8080/",
          "height": 36
        },
        "id": "TsqvqrPG9XqX",
        "outputId": "4cb3d789-7a08-4476-e55e-61096ae89e09"
      },
      "execution_count": null,
      "outputs": [
        {
          "output_type": "execute_result",
          "data": {
            "text/plain": [
              "'(22+15j)'"
            ],
            "application/vnd.google.colaboratory.intrinsic+json": {
              "type": "string"
            }
          },
          "metadata": {},
          "execution_count": 25
        }
      ]
    },
    {
      "cell_type": "code",
      "source": [
        "variable=45\n",
        "\n",
        "variable2=str(variable)\n",
        "type(variable2)"
      ],
      "metadata": {
        "colab": {
          "base_uri": "https://localhost:8080/"
        },
        "id": "iyOiWDbb9rmW",
        "outputId": "03edfd68-244a-4b58-c7be-bfb5b7608dae"
      },
      "execution_count": null,
      "outputs": [
        {
          "output_type": "execute_result",
          "data": {
            "text/plain": [
              "str"
            ]
          },
          "metadata": {},
          "execution_count": 27
        }
      ]
    },
    {
      "cell_type": "code",
      "source": [
        "str=\"2.5\"\n",
        "int_var=int(float(str))\n",
        "type(int_var)\n",
        "print(int_var)"
      ],
      "metadata": {
        "colab": {
          "base_uri": "https://localhost:8080/"
        },
        "id": "19sfLSNi-gD8",
        "outputId": "779fcbe8-e816-4e14-cb4f-1c87f75a2d52"
      },
      "execution_count": null,
      "outputs": [
        {
          "output_type": "stream",
          "name": "stdout",
          "text": [
            "2\n"
          ]
        }
      ]
    },
    {
      "cell_type": "code",
      "source": [
        "x=3.5\n",
        "print(float(int(x)))"
      ],
      "metadata": {
        "id": "xJzViY_h-8OV",
        "colab": {
          "base_uri": "https://localhost:8080/"
        },
        "outputId": "f9de4e39-7bbe-4b28-c93b-79fb4cf9bd23"
      },
      "execution_count": null,
      "outputs": [
        {
          "output_type": "stream",
          "name": "stdout",
          "text": [
            "3.0\n"
          ]
        }
      ]
    },
    {
      "cell_type": "code",
      "source": [
        "print(4 % (1+9) ** 2 -60 // (7+2))"
      ],
      "metadata": {
        "colab": {
          "base_uri": "https://localhost:8080/"
        },
        "id": "vyi8lWT-Gfw8",
        "outputId": "e857756d-5a8b-4eba-f740-daaae0933bfc"
      },
      "execution_count": null,
      "outputs": [
        {
          "output_type": "stream",
          "name": "stdout",
          "text": [
            "-2\n"
          ]
        }
      ]
    },
    {
      "cell_type": "code",
      "source": [
        "#string operations\n",
        "\n",
        "firstname = \"Jhon\"\n",
        "lastname = \"Carter\"\n",
        "\n",
        "print(firstname + lastname)\n",
        "print(firstname + \" \" + lastname)"
      ],
      "metadata": {
        "colab": {
          "base_uri": "https://localhost:8080/"
        },
        "id": "sCQ9PNDScNrW",
        "outputId": "d4bb3527-34b2-48ce-998c-bb7919332ec6"
      },
      "execution_count": null,
      "outputs": [
        {
          "output_type": "stream",
          "name": "stdout",
          "text": [
            "JhonCarter\n",
            "Jhon Carter\n"
          ]
        }
      ]
    },
    {
      "cell_type": "code",
      "source": [
        "string=\"Hello World\"\n",
        "\n",
        "#String[start:end:step]\n",
        "string_slicing=string[:6]\n",
        "print(string_slicing)\n",
        "\n",
        "print(\"World\" in string)\n",
        "\n",
        "print(string*2)"
      ],
      "metadata": {
        "colab": {
          "base_uri": "https://localhost:8080/"
        },
        "id": "vl0dl11Sc3zD",
        "outputId": "32385c60-3c6b-4dab-9ff8-21fb5491a8eb"
      },
      "execution_count": null,
      "outputs": [
        {
          "output_type": "stream",
          "name": "stdout",
          "text": [
            "Hello \n",
            "True\n",
            "Hello WorldHello World\n"
          ]
        }
      ]
    },
    {
      "cell_type": "code",
      "source": [
        "var = \"Hey there, this is hyderabad\"\n",
        "\n",
        "print(var.upper())\n",
        "print(var.lower())\n"
      ],
      "metadata": {
        "colab": {
          "base_uri": "https://localhost:8080/"
        },
        "id": "UgAkeKojd7Fb",
        "outputId": "2be5fcf9-aac0-46b2-efda-f5b5e1ce9121"
      },
      "execution_count": null,
      "outputs": [
        {
          "output_type": "stream",
          "name": "stdout",
          "text": [
            "HEY THERE, THIS IS HYDERABAD\n",
            "hey there, this is hyderabad\n"
          ]
        }
      ]
    },
    {
      "cell_type": "code",
      "source": [
        "var = \"   Hey there, this is hyderabad      \"\n",
        "\n",
        "#strip removes white spaces\n",
        "print(var)\n",
        "print(var.rstrip())\n",
        "print(var.lstrip())\n",
        "var1 = var.rstrip()\n",
        "var2=var1.lstrip()\n",
        "print(len(var))\n",
        "print(len(var1))\n",
        "len(var2)"
      ],
      "metadata": {
        "colab": {
          "base_uri": "https://localhost:8080/"
        },
        "id": "JRTeWK9oeVFE",
        "outputId": "b367585a-f5d2-4fb4-c79d-22ae2b102287"
      },
      "execution_count": null,
      "outputs": [
        {
          "output_type": "stream",
          "name": "stdout",
          "text": [
            "   Hey there, this is hyderabad      \n",
            "   Hey there, this is hyderabad\n",
            "Hey there, this is hyderabad      \n",
            "37\n",
            "31\n"
          ]
        },
        {
          "output_type": "execute_result",
          "data": {
            "text/plain": [
              "28"
            ]
          },
          "metadata": {},
          "execution_count": 24
        }
      ]
    },
    {
      "cell_type": "code",
      "source": [
        "text=\"******Hi There#######\"\n",
        "\n",
        "print(text)\n",
        "#removing the specific characters\n",
        "new_text = text.rstrip(\"#\").lstrip(\"*\")\n",
        "print(new_text)"
      ],
      "metadata": {
        "colab": {
          "base_uri": "https://localhost:8080/"
        },
        "id": "8kuqG27Vej8C",
        "outputId": "8080c5a7-1332-4637-8aa0-ac0fa75e3822"
      },
      "execution_count": null,
      "outputs": [
        {
          "output_type": "stream",
          "name": "stdout",
          "text": [
            "******Hi There#######\n",
            "Hi There\n"
          ]
        }
      ]
    },
    {
      "cell_type": "code",
      "source": [
        "#data structures\n",
        "\n",
        "#list\n",
        "l = [1,22.5,33+23j,[2,\"vish\",5]]\n",
        "type(l)"
      ],
      "metadata": {
        "colab": {
          "base_uri": "https://localhost:8080/"
        },
        "id": "n5g62MfCGo17",
        "outputId": "31704e60-b549-4bf3-f50e-1ffe8e443a3b"
      },
      "execution_count": null,
      "outputs": [
        {
          "output_type": "execute_result",
          "data": {
            "text/plain": [
              "list"
            ]
          },
          "metadata": {},
          "execution_count": 3
        }
      ]
    },
    {
      "cell_type": "code",
      "source": [
        "#tuple\n",
        "t=(1,2.5,13+24j,9,(\"vish\",23,2.5))\n",
        "type(t)\n",
        "\n",
        "#extracting data tuple inside a tuple\n",
        "t[4][2]"
      ],
      "metadata": {
        "colab": {
          "base_uri": "https://localhost:8080/"
        },
        "id": "17QahzSzG2ve",
        "outputId": "c9b5d5e1-97c8-4306-9364-11fdc9b8422a"
      },
      "execution_count": null,
      "outputs": [
        {
          "output_type": "execute_result",
          "data": {
            "text/plain": [
              "2.5"
            ]
          },
          "metadata": {},
          "execution_count": 11
        }
      ]
    },
    {
      "cell_type": "code",
      "source": [
        "#to define empty tuple\n",
        "t3=()\n",
        "type(t3)"
      ],
      "metadata": {
        "colab": {
          "base_uri": "https://localhost:8080/"
        },
        "id": "wj86hsA51kyh",
        "outputId": "7641142f-7b46-4167-b2bc-4a7eaaa5bf2e"
      },
      "execution_count": 17,
      "outputs": [
        {
          "output_type": "execute_result",
          "data": {
            "text/plain": [
              "tuple"
            ]
          },
          "metadata": {},
          "execution_count": 17
        }
      ]
    },
    {
      "cell_type": "code",
      "source": [
        "#set\n",
        "s={1,2.5,24+24j,\"vish\"}\n",
        "type(s)"
      ],
      "metadata": {
        "colab": {
          "base_uri": "https://localhost:8080/"
        },
        "id": "kh-3yju2HTal",
        "outputId": "5a0fae3b-bed3-4fd7-eed7-60d23ff38107"
      },
      "execution_count": null,
      "outputs": [
        {
          "output_type": "execute_result",
          "data": {
            "text/plain": [
              "set"
            ]
          },
          "metadata": {},
          "execution_count": 10
        }
      ]
    },
    {
      "cell_type": "code",
      "source": [
        "#set - converting list nto set and set wont allow duplicate values\n",
        "l = [1,2,3,4,5,7,8,5]\n",
        "type(l)\n",
        "set1=set(l)\n",
        "print(len(set1))\n",
        "print(len(l))\n",
        "\n",
        "\n"
      ],
      "metadata": {
        "id": "FgF3lZ88HjJ7",
        "colab": {
          "base_uri": "https://localhost:8080/"
        },
        "outputId": "cf9aecc2-2c7c-4604-e60c-8e70c59039b7"
      },
      "execution_count": 6,
      "outputs": [
        {
          "output_type": "stream",
          "name": "stdout",
          "text": [
            "7\n",
            "8\n"
          ]
        }
      ]
    },
    {
      "cell_type": "code",
      "source": [
        "set2 = {1,2,3,4.5,2,2,1}\n",
        "type(set2)\n",
        "print(set2)"
      ],
      "metadata": {
        "colab": {
          "base_uri": "https://localhost:8080/"
        },
        "id": "phm5-CzF0NNK",
        "outputId": "075126d9-c008-47ff-b954-1116c755df2d"
      },
      "execution_count": 12,
      "outputs": [
        {
          "output_type": "stream",
          "name": "stdout",
          "text": [
            "{1, 2, 3, 4.5}\n"
          ]
        }
      ]
    },
    {
      "cell_type": "code",
      "source": [
        "#to define empty set\n",
        "set4={}\n",
        "print(type(set4))\n",
        "\n",
        "set5=set({})\n",
        "print(type(set5))"
      ],
      "metadata": {
        "colab": {
          "base_uri": "https://localhost:8080/"
        },
        "id": "J634D1eO02YZ",
        "outputId": "a6f24f76-18f0-4d75-b6e7-8e1af16d4330"
      },
      "execution_count": 18,
      "outputs": [
        {
          "output_type": "stream",
          "name": "stdout",
          "text": [
            "<class 'dict'>\n",
            "<class 'set'>\n"
          ]
        }
      ]
    },
    {
      "cell_type": "code",
      "source": [
        "#set operations\n",
        "new_set = {1,2,3,4.5,2,2,1}\n",
        "new_set.add(\"india\")\n",
        "new_set"
      ],
      "metadata": {
        "colab": {
          "base_uri": "https://localhost:8080/"
        },
        "id": "ecAzjykI2Lg3",
        "outputId": "d69ae902-0a56-4b6a-b478-aa10e39de289"
      },
      "execution_count": 27,
      "outputs": [
        {
          "output_type": "execute_result",
          "data": {
            "text/plain": [
              "{1, 2, 3, 4.5, 'india'}"
            ]
          },
          "metadata": {},
          "execution_count": 27
        }
      ]
    },
    {
      "cell_type": "code",
      "source": [
        "new_set.remove(\"india\")\n",
        "new_set"
      ],
      "metadata": {
        "colab": {
          "base_uri": "https://localhost:8080/",
          "height": 158
        },
        "id": "MzRmtbgK2aGS",
        "outputId": "f0b286df-6b3d-4de9-d139-8ec18f09a3d1"
      },
      "execution_count": 29,
      "outputs": [
        {
          "output_type": "error",
          "ename": "KeyError",
          "evalue": "'india'",
          "traceback": [
            "\u001b[0;31m---------------------------------------------------------------------------\u001b[0m",
            "\u001b[0;31mKeyError\u001b[0m                                  Traceback (most recent call last)",
            "\u001b[0;32m<ipython-input-29-2ca42703996d>\u001b[0m in \u001b[0;36m<cell line: 1>\u001b[0;34m()\u001b[0m\n\u001b[0;32m----> 1\u001b[0;31m \u001b[0mnew_set\u001b[0m\u001b[0;34m.\u001b[0m\u001b[0mremove\u001b[0m\u001b[0;34m(\u001b[0m\u001b[0;34m\"india\"\u001b[0m\u001b[0;34m)\u001b[0m\u001b[0;34m\u001b[0m\u001b[0;34m\u001b[0m\u001b[0m\n\u001b[0m\u001b[1;32m      2\u001b[0m \u001b[0mnew_set\u001b[0m\u001b[0;34m\u001b[0m\u001b[0;34m\u001b[0m\u001b[0m\n",
            "\u001b[0;31mKeyError\u001b[0m: 'india'"
          ]
        }
      ]
    },
    {
      "cell_type": "code",
      "source": [
        "A={0,2,4,6,8}\n",
        "B={1,2,3,4,5}"
      ],
      "metadata": {
        "id": "RCfF_j_n3osc"
      },
      "execution_count": 31,
      "outputs": []
    },
    {
      "cell_type": "code",
      "source": [
        "#union\n",
        "print(A | B)\n",
        "print(A.union(B))\n",
        "print(len(A.union(B)))"
      ],
      "metadata": {
        "colab": {
          "base_uri": "https://localhost:8080/"
        },
        "id": "rgTQKtg234cH",
        "outputId": "0d552220-3bab-4517-9b6f-0290555a6204"
      },
      "execution_count": 34,
      "outputs": [
        {
          "output_type": "stream",
          "name": "stdout",
          "text": [
            "{0, 1, 2, 3, 4, 5, 6, 8}\n",
            "{0, 1, 2, 3, 4, 5, 6, 8}\n",
            "8\n"
          ]
        }
      ]
    },
    {
      "cell_type": "code",
      "source": [
        "#intersection\n",
        "print(A&B)\n",
        "print(A.intersection(B))\n",
        "print(len(A&B))\n"
      ],
      "metadata": {
        "colab": {
          "base_uri": "https://localhost:8080/"
        },
        "id": "8CjuerEP4q9X",
        "outputId": "051b6024-e1e3-46c6-9553-eb53825f6c7a"
      },
      "execution_count": 36,
      "outputs": [
        {
          "output_type": "stream",
          "name": "stdout",
          "text": [
            "{2, 4}\n",
            "{2, 4}\n",
            "2\n"
          ]
        }
      ]
    },
    {
      "cell_type": "code",
      "source": [
        "#difference\n",
        "print(A-B)\n",
        "print(A.difference(B))"
      ],
      "metadata": {
        "colab": {
          "base_uri": "https://localhost:8080/"
        },
        "id": "e7Uj_pFH5IGP",
        "outputId": "f2746a01-ae14-4594-882e-4242a2a33c2a"
      },
      "execution_count": 39,
      "outputs": [
        {
          "output_type": "stream",
          "name": "stdout",
          "text": [
            "{0, 8, 6}\n",
            "{0, 8, 6}\n"
          ]
        }
      ]
    },
    {
      "cell_type": "code",
      "source": [
        "#symmentric difference except common values\n",
        "print(A^B)"
      ],
      "metadata": {
        "colab": {
          "base_uri": "https://localhost:8080/"
        },
        "id": "UY8nKL6j5eeS",
        "outputId": "235837db-86b7-4bfe-993b-d22c46808c4f"
      },
      "execution_count": 42,
      "outputs": [
        {
          "output_type": "stream",
          "name": "stdout",
          "text": [
            "{0, 1, 3, 5, 6, 8}\n"
          ]
        }
      ]
    },
    {
      "cell_type": "code",
      "source": [
        "#write a code to get matched values from both lists and sort them\n",
        "\n",
        "list1=[1,2,3,4,5,6]\n",
        "list2=[2,4,6,8,0,5]\n",
        "\n",
        "set1=set(list1)\n",
        "set2=set(list2)\n",
        "\n",
        "set3=set1 & set2\n",
        "list4=list(set3)\n",
        "print(sorted(list4))"
      ],
      "metadata": {
        "colab": {
          "base_uri": "https://localhost:8080/"
        },
        "id": "QbW_klXg8pcc",
        "outputId": "9b3c248f-7cd1-41fb-a9ea-1edbf0168d76"
      },
      "execution_count": 49,
      "outputs": [
        {
          "output_type": "stream",
          "name": "stdout",
          "text": [
            "[2, 4, 5, 6]\n"
          ]
        }
      ]
    },
    {
      "cell_type": "code",
      "source": [
        "#dictonaries\n",
        "d1={\"india\":\"INR\",\n",
        "    \"USA\":\"USD\",\n",
        "    \"HONGKONG\":\"HKD\"}\n",
        "\n",
        "#accessing values using keys\n",
        "d1[\"india\"]"
      ],
      "metadata": {
        "colab": {
          "base_uri": "https://localhost:8080/",
          "height": 36
        },
        "id": "lXZU-jjlKzsn",
        "outputId": "398ebba8-e417-4eed-c072-e96d931af826"
      },
      "execution_count": 51,
      "outputs": [
        {
          "output_type": "execute_result",
          "data": {
            "text/plain": [
              "'INR'"
            ],
            "application/vnd.google.colaboratory.intrinsic+json": {
              "type": "string"
            }
          },
          "metadata": {},
          "execution_count": 51
        }
      ]
    },
    {
      "cell_type": "code",
      "source": [
        "#Updating the value of a key\n",
        "\n",
        "d1[\"USA\"] = \"DOLLAR\"\n",
        "d1\n"
      ],
      "metadata": {
        "colab": {
          "base_uri": "https://localhost:8080/"
        },
        "id": "-UQf_x_MLkfW",
        "outputId": "6eeb2bd1-db82-449c-8bfe-994a0f22ca78"
      },
      "execution_count": 55,
      "outputs": [
        {
          "output_type": "execute_result",
          "data": {
            "text/plain": [
              "{'india': 'INR', 'USA': 'DOLLAR', 'HONGKONG': 'HKD'}"
            ]
          },
          "metadata": {},
          "execution_count": 55
        }
      ]
    },
    {
      "cell_type": "code",
      "source": [
        "#inserting a new value or record\n",
        "d1[\"Japan\"]=\"YEN\"\n",
        "d1"
      ],
      "metadata": {
        "colab": {
          "base_uri": "https://localhost:8080/"
        },
        "id": "FBFq5Mq8MTLz",
        "outputId": "3851dc5c-6640-40ae-cb86-2261d4fb4ab7"
      },
      "execution_count": 57,
      "outputs": [
        {
          "output_type": "execute_result",
          "data": {
            "text/plain": [
              "{'india': 'INR', 'USA': 'DOLLAR', 'HONGKONG': 'HKD', 'Japan': 'YEN'}"
            ]
          },
          "metadata": {},
          "execution_count": 57
        }
      ]
    },
    {
      "cell_type": "code",
      "source": [
        "#delete a key value pair\n",
        "del d1[\"HONGKONG\"]\n",
        "d1"
      ],
      "metadata": {
        "colab": {
          "base_uri": "https://localhost:8080/",
          "height": 176
        },
        "id": "zqo9ilCKM1Is",
        "outputId": "7e4762e6-f429-4a67-d4e6-976265ef756d"
      },
      "execution_count": 59,
      "outputs": [
        {
          "output_type": "error",
          "ename": "KeyError",
          "evalue": "'HONGKONG'",
          "traceback": [
            "\u001b[0;31m---------------------------------------------------------------------------\u001b[0m",
            "\u001b[0;31mKeyError\u001b[0m                                  Traceback (most recent call last)",
            "\u001b[0;32m<ipython-input-59-8c77e294ec2a>\u001b[0m in \u001b[0;36m<cell line: 2>\u001b[0;34m()\u001b[0m\n\u001b[1;32m      1\u001b[0m \u001b[0;31m#delete a key value pair\u001b[0m\u001b[0;34m\u001b[0m\u001b[0;34m\u001b[0m\u001b[0m\n\u001b[0;32m----> 2\u001b[0;31m \u001b[0;32mdel\u001b[0m \u001b[0md1\u001b[0m\u001b[0;34m[\u001b[0m\u001b[0;34m\"HONGKONG\"\u001b[0m\u001b[0;34m]\u001b[0m\u001b[0;34m\u001b[0m\u001b[0;34m\u001b[0m\u001b[0m\n\u001b[0m\u001b[1;32m      3\u001b[0m \u001b[0md1\u001b[0m\u001b[0;34m\u001b[0m\u001b[0;34m\u001b[0m\u001b[0m\n",
            "\u001b[0;31mKeyError\u001b[0m: 'HONGKONG'"
          ]
        }
      ]
    },
    {
      "cell_type": "code",
      "source": [
        "#sorting of dictonaries\n",
        "sorted(d1)"
      ],
      "metadata": {
        "colab": {
          "base_uri": "https://localhost:8080/"
        },
        "id": "IF7hGwAcNP8O",
        "outputId": "8c5c768a-6ab5-4cdc-d3b8-234447ed2ac2"
      },
      "execution_count": 62,
      "outputs": [
        {
          "output_type": "execute_result",
          "data": {
            "text/plain": [
              "['Japan', 'USA', 'india']"
            ]
          },
          "metadata": {},
          "execution_count": 62
        }
      ]
    },
    {
      "cell_type": "code",
      "source": [
        "#values() method\n",
        "\n",
        "d1.values()\n",
        "print(d1.values())\n",
        "var1=d1.values()\n",
        "type(var1)"
      ],
      "metadata": {
        "colab": {
          "base_uri": "https://localhost:8080/"
        },
        "id": "8kLqHqYMNp1I",
        "outputId": "58154039-e8f9-4c4e-b3ff-0a938171341e"
      },
      "execution_count": 69,
      "outputs": [
        {
          "output_type": "stream",
          "name": "stdout",
          "text": [
            "dict_values(['INR', 'DOLLAR', 'YEN'])\n"
          ]
        },
        {
          "output_type": "execute_result",
          "data": {
            "text/plain": [
              "dict_values"
            ]
          },
          "metadata": {},
          "execution_count": 69
        }
      ]
    },
    {
      "cell_type": "code",
      "source": [
        "#keys() method\n",
        "\n",
        "d1.keys()\n",
        "print(d1.keys())\n",
        "var1=d1.keys()\n",
        "type(var1)"
      ],
      "metadata": {
        "colab": {
          "base_uri": "https://localhost:8080/"
        },
        "id": "yMTwESmmOTSh",
        "outputId": "bbc70173-b016-4d61-b9c4-b183daa122ff"
      },
      "execution_count": 71,
      "outputs": [
        {
          "output_type": "stream",
          "name": "stdout",
          "text": [
            "dict_keys(['india', 'USA', 'Japan'])\n"
          ]
        },
        {
          "output_type": "execute_result",
          "data": {
            "text/plain": [
              "dict_keys"
            ]
          },
          "metadata": {},
          "execution_count": 71
        }
      ]
    },
    {
      "cell_type": "code",
      "source": [
        "#get() method\n",
        "\n",
        "d1.get(\"india\")"
      ],
      "metadata": {
        "colab": {
          "base_uri": "https://localhost:8080/",
          "height": 36
        },
        "id": "x7QaK6XbOtlg",
        "outputId": "571b0763-a6d1-4f21-dfe4-99a39ec2d311"
      },
      "execution_count": 74,
      "outputs": [
        {
          "output_type": "execute_result",
          "data": {
            "text/plain": [
              "'INR'"
            ],
            "application/vnd.google.colaboratory.intrinsic+json": {
              "type": "string"
            }
          },
          "metadata": {},
          "execution_count": 74
        }
      ]
    },
    {
      "cell_type": "code",
      "source": [
        "#update() method\n",
        "\n",
        "d1.update({\"india\":'Rupee'})\n",
        "d1"
      ],
      "metadata": {
        "colab": {
          "base_uri": "https://localhost:8080/"
        },
        "id": "m_9bNQm-O8No",
        "outputId": "a64d8c5e-e499-45d9-b798-3a602c120205"
      },
      "execution_count": 78,
      "outputs": [
        {
          "output_type": "execute_result",
          "data": {
            "text/plain": [
              "{'india': 'Rupee', 'USA': 'DOLLAR', 'Japan': 'YEN'}"
            ]
          },
          "metadata": {},
          "execution_count": 78
        }
      ]
    },
    {
      "cell_type": "code",
      "source": [
        "1:30"
      ],
      "metadata": {
        "id": "ti3aixxaUV7m"
      },
      "execution_count": null,
      "outputs": []
    }
  ]
}